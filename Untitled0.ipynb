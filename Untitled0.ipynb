{
  "nbformat": 4,
  "nbformat_minor": 0,
  "metadata": {
    "colab": {
      "name": "Untitled0.ipynb",
      "provenance": [],
      "collapsed_sections": [],
      "authorship_tag": "ABX9TyMLbdjk+fnyEouJP/w+k2Fq",
      "include_colab_link": true
    },
    "kernelspec": {
      "name": "python3",
      "display_name": "Python 3"
    }
  },
  "cells": [
    {
      "cell_type": "markdown",
      "metadata": {
        "id": "view-in-github",
        "colab_type": "text"
      },
      "source": [
        "<a href=\"https://colab.research.google.com/github/wjdwlsdn1216/wjd-wls-dn/blob/master/Untitled0.ipynb\" target=\"_parent\"><img src=\"https://colab.research.google.com/assets/colab-badge.svg\" alt=\"Open In Colab\"/></a>"
      ]
    },
    {
      "cell_type": "markdown",
      "metadata": {
        "id": "aBSCuFhcoNrA",
        "colab_type": "text"
      },
      "source": [
        "#**인공지능 기술**\n",
        "### -인공지능 기술과 접합된 제품 및 서비스\n",
        "\n",
        "\n"
      ]
    },
    {
      "cell_type": "markdown",
      "metadata": {
        "id": "Hq_Kj0ttsj9u",
        "colab_type": "text"
      },
      "source": [
        "##**목차**\n",
        "\n",
        "###**1. 머리말**\n",
        "\n",
        "###**2. 인공지능 제품 및 서비스 기술분석**\n",
        "\n",
        "* **음성인식 인공지능**\n",
        " - 인공지능 스피커 (SKT NUGU)\n",
        "\n",
        "\n",
        "* **언어번역 인공지능**\n",
        " - 구글번역기\n",
        "\n",
        "\n",
        "* **이미지변환 인공지능**\n",
        " - \n",
        "\n",
        "\n",
        "* **자율주행 인공지능**\n",
        " - 테슬라 자율주행 자동차\n",
        "\n",
        "\n",
        "###**3. 나의 관심기술  및 앞으로 학습 목표**\n"
      ]
    },
    {
      "cell_type": "markdown",
      "metadata": {
        "id": "Yk5a7_4IFTG9",
        "colab_type": "text"
      },
      "source": [
        ""
      ]
    },
    {
      "cell_type": "markdown",
      "metadata": {
        "id": "y6RhGIlNFTRi",
        "colab_type": "text"
      },
      "source": [
        ""
      ]
    },
    {
      "cell_type": "markdown",
      "metadata": {
        "id": "4STeXQQKuKz0",
        "colab_type": "text"
      },
      "source": [
        "#### **1.머리말**\n",
        "최근 들어 인공지능과 관련된 제품 및 서비스가 늘어나고있다. \n"
      ]
    },
    {
      "cell_type": "markdown",
      "metadata": {
        "id": "aPWLIbzV7Py2",
        "colab_type": "text"
      },
      "source": [
        "#### **2.인공지능 제품 및 서비스 기술분석**\n",
        "* **음석인식 인공지능**\n",
        "\n"
      ]
    }
  ]
}