{
  "nbformat": 4,
  "nbformat_minor": 0,
  "metadata": {
    "colab": {
      "name": "Untitled0.ipynb",
      "provenance": [],
      "collapsed_sections": [],
      "authorship_tag": "ABX9TyNIbkGfxarBF5XRH11pl2MW",
      "include_colab_link": true
    },
    "kernelspec": {
      "name": "python3",
      "display_name": "Python 3"
    }
  },
  "cells": [
    {
      "cell_type": "markdown",
      "metadata": {
        "id": "view-in-github",
        "colab_type": "text"
      },
      "source": [
        "<a href=\"https://colab.research.google.com/github/wjdwlsdn1216/wjd-wls-dn/blob/master/Untitled0.ipynb\" target=\"_parent\"><img src=\"https://colab.research.google.com/assets/colab-badge.svg\" alt=\"Open In Colab\"/></a>"
      ]
    },
    {
      "cell_type": "markdown",
      "metadata": {
        "id": "aBSCuFhcoNrA",
        "colab_type": "text"
      },
      "source": [
        "#**인공지능 기술**\n",
        "### -인공지능 기술과 접합된 제품 및 서비스\n",
        "\n",
        "\n"
      ]
    },
    {
      "cell_type": "markdown",
      "metadata": {
        "id": "Hq_Kj0ttsj9u",
        "colab_type": "text"
      },
      "source": [
        "##**목차**\n",
        "\n",
        "###**1. 서론**\n",
        "\n",
        "###**2. 인공지능 제품 및 서비스 기술분석**\n",
        "\n",
        "* **2-1음성인식 인공지능**\n",
        " - 인공지능 스피커 (SKT NUGU)\n",
        "\n",
        "\n",
        "* **2-2언어번역 인공지능**\n",
        " - 구글번역기\n",
        "\n",
        "\n",
        "* **2-3이미지분류 인공지능**\n",
        " - ㅇㅇㅇ\n",
        "\n",
        "\n",
        "* **2-4자율주행 인공지능**\n",
        " - 테슬라 자율주행 자동차\n",
        "\n",
        "\n",
        "###**3. 나의 관심기술  및 앞으로 학습 목표**\n"
      ]
    },
    {
      "cell_type": "markdown",
      "metadata": {
        "id": "4STeXQQKuKz0",
        "colab_type": "text"
      },
      "source": [
        "### **1.서론**\n"
      ]
    },
    {
      "cell_type": "markdown",
      "metadata": {
        "id": "xo7-GV1vGohL",
        "colab_type": "text"
      },
      "source": [
        "과거 1956년 미국 다트머스 대학 존 매카시 교수가 개최한 다트머스 회의를 통해 처음으로 인공지능이라는 용어가 사용되기 시작하였고, 당시 인공지능 연구기술의 핵심은 추론과 탐색이었습니다.\n",
        ">\n",
        "그 후 많은 연구의 시도들이 있었지만 1970년대  컴퓨터 성능의 한계로 성과가 미미해지자 투자가 중단되어 첫번째 암흑기가 도래합니다. 수 년이 지난후 전문가 시스템개발과함께 다시 주목되고 인터넷 검색엔진 등으로 활용되었지만 유용성 비판과함게 두번째 암흑기가 시작됩니다.\n",
        ">\n",
        "하지만 1997년 세계 체스 챔피언을 인공지능 IBM 딥블루가 제압을 하게되고, 2012년 딥러닝 등 새로운 기법들이 개발되어 크게 성장하게됩니다. 그리고 대한민국 사람이라면 대부분의 사람들이 알고있는 구글 알파고가 이세돌9단을 바둑에서 승리하며 현재는 과거에는 상상도 못했던 제품 및 서비스등이 출현하고 있고 그중에도 음성, 언어, 이미지, 자율주행 분야에서 많이 찾아볼 수 있습니다.\n"
      ]
    },
    {
      "cell_type": "markdown",
      "metadata": {
        "id": "aPWLIbzV7Py2",
        "colab_type": "text"
      },
      "source": [
        "### **2.인공지능 제품 및 서비스 기술분석**\n"
      ]
    },
    {
      "cell_type": "markdown",
      "metadata": {
        "id": "jBreusE3GNf7",
        "colab_type": "text"
      },
      "source": [
        "- **2-1 음성인식 인공지능**\n",
        "\n",
        "ㅇㅇㅇㅇㅇㅇㅇㅇㅇㅇㅇㅇㅇㅇㅇㅇㅇㅇㅇㅇㅇㅇㅇㅇㅇㅇㅇㅇㅇㅇㅇㅇㅇㅇㅇㅇㅇㅇㅇㅇㅇㅇㅇㅇㅇㅇㅇㅇㅇㅇㅇㅇㅇㅇㅇㅇㅇㅇㅇㅇㅇㅇㅇㅇㅇㅇㅇㅇㅇㅇㅇㅇㅇㅇㅇㅇㅇㅇㅇㅇㅇㅇㅇㅇㅇㅇㅇㅇㅇㅇㅇㅇㅇㅇㅇㅇㅇㅇㅇㅇㅇㅇㅇㅇㅇㅇㅇㅇㅇㅇㅇㅇㅇㅇㅇㅇㅇㅇㅇㅇㅇㅇㅇㅇㅇㅇㅇㅇㅇㅇㅇㅇㅇㅇㅇㅇㅇㅇㅇㅇㅇㅇㅇㅇㅇㅇㅇㅇㅇㅇㅇㅇ"
      ]
    },
    {
      "cell_type": "markdown",
      "metadata": {
        "id": "g4ypyJSkHXzD",
        "colab_type": "text"
      },
      "source": [
        "- **2-2 언어번역 인공지능**\n",
        "\n",
        "ㅇㅇㅇㅇㅇㅇㅇㅇㅇㅇㅇㅇㅇㅇㅇㅇㅇㅇㅇㅇㅇㅇㅇㅇㅇㅇㅇㅇㅇㅇㅇㅇㅇㅇㅇㅇㅇㅇㅇㅇㅇㅇㅇㅇㅇㅇㅇㅇㅇㅇㅇㅇㅇㅇㅇㅇㅇㅇㅇㅇㅇㅇㅇㅇㅇㅇㅇㅇㅇㅇㅇㅇㅇㅇㅇㅇㅇㅇㅇㅇㅇㅇㅇㅇㅇㅇㅇㅇㅇㅇㅇㅇㅇㅇㅇㅇㅇㅇㅇㅇㅇㅇㅇㅇㅇㅇㅇㅇㅇㅇㅇㅇㅇㅇㅇㅇㅇㅇㅇㅇㅇㅇㅇㅇㅇㅇㅇㅇㅇㅇ"
      ]
    },
    {
      "cell_type": "markdown",
      "metadata": {
        "id": "kMvyu3KNHsbh",
        "colab_type": "text"
      },
      "source": [
        "- **2-3 이미지분류 인공지능**\n",
        "\n",
        "ㅇㅇㅇㅇㅇㅇㅇㅇㅇㅇㅇㅇㅇㅇㅇㅇㅇㅇㅇㅇㅇㅇㅇㅇㅇㅇㅇㅇㅇㅇㅇㅇㅇㅇㅇㅇㅇㅇㅇㅇㅇㅇㅇㅇㅇㅇㅇㅇㅇㅇㅇㅇㅇㅇㅇㅇㅇㅇㅇㅇㅇㅇㅇㅇㅇㅇㅇㅇㅇㅇㅇㅇㅇㅇㅇㅇㅇㅇㅇㅇㅇㅇㅇㅇㅇㅇㅇㅇㅇㅇㅇㅇㅇㅇㅇㅇㅇㅇㅇㅇㅇㅇㅇㅇㅇㅇㅇㅇㅇㅇㅇㅇㅇㅇㅇㅇㅇㅇㅇㅇㅇㅇㅇㅇㅇㅇㅇㅇㅇ"
      ]
    },
    {
      "cell_type": "markdown",
      "metadata": {
        "id": "3aZfnT_0HsRM",
        "colab_type": "text"
      },
      "source": [
        "- **2-4 자율주행 인공지능**\n",
        "\n",
        "ㅇㅇㅇㅇㅇㅇㅇㅇㅇㅇㅇㅇㅇㅇㅇㅇㅇㅇㅇㅇㅇㅇㅇㅇㅇㅇㅇㅇㅇㅇㅇㅇㅇㅇㅇㅇㅇㅇㅇㅇㅇㅇㅇㅇㅇㅇㅇㅇㅇㅇㅇㅇㅇㅇㅇㅇㅇㅇㅇㅇㅇㅇㅇㅇㅇㅇㅇㅇㅇㅇㅇㅇㅇㅇㅇㅇㅇㅇㅇㅇㅇㅇㅇㅇㅇㅇㅇㅇㅇㅇㅇㅇㅇㅇㅇㅇㅇㅇㅇㅇㅇㅇㅇㅇㅇㅇㅇㅇㅇㅇㅇㅇㅇㅇㅇㅇㅇㅇㅇㅇㅇㅇㅇㅇㅇㅇㅇㅇㅇㅇㅇㅇㅇ"
      ]
    },
    {
      "cell_type": "markdown",
      "metadata": {
        "id": "EQt6QZ1JH6gi",
        "colab_type": "text"
      },
      "source": [
        "### **3.나의 관심기술 및 앞으로 학습 목표**"
      ]
    },
    {
      "cell_type": "markdown",
      "metadata": {
        "id": "5v3lYpomISFg",
        "colab_type": "text"
      },
      "source": [
        "ㅇㅇㅇㅇㅇㅇㅇㅇㅇㅇㅇㅇㅇㅇㅇㅇㅇㅇㅇㅇㅇㅇㅇㅇㅇㅇㅇㅇㅇㅇㅇㅇㅇㅇㅇㅇㅇㅇㅇㅇㅇㅇㅇㅇㅇㅇㅇㅇㅇㅇㅇㅇㅇㅇㅇㅇㅇㅇㅇㅇㅇㅇㅇㅇㅇㅇㅇㅇㅇㅇㅇㅇㅇㅇㅇㅇㅇㅇㅇㅇㅇㅇㅇㅇㅇㅇㅇㅇㅇㅇㅇㅇㅇㅇㅇㅇㅇㅇㅇㅇㅇㅇㅇㅇㅇㅇㅇㅇㅇㅇㅇㅇㅇㅇㅇㅇㅇㅇㅇㅇㅇㅇㅇㅇㅇㅇㅇㅇㅇㅇㅇㅇㅇㅇㅇㅇㅇㅇㅇㅇㅇㅇㅇㅇㅇㅇㅇ"
      ]
    },
    {
      "cell_type": "markdown",
      "metadata": {
        "id": "FDJCw8gWVUUz",
        "colab_type": "text"
      },
      "source": [
        ""
      ]
    },
    {
      "cell_type": "markdown",
      "metadata": {
        "id": "m2BDlwmTVUeD",
        "colab_type": "text"
      },
      "source": [
        ""
      ]
    },
    {
      "cell_type": "markdown",
      "metadata": {
        "id": "OHZy8wQqVUhS",
        "colab_type": "text"
      },
      "source": [
        ""
      ]
    },
    {
      "cell_type": "markdown",
      "metadata": {
        "id": "aLh0fFiDVUkF",
        "colab_type": "text"
      },
      "source": [
        ""
      ]
    }
  ]
}