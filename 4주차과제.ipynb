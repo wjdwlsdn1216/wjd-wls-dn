{
  "nbformat": 4,
  "nbformat_minor": 0,
  "metadata": {
    "colab": {
      "name": "4주차과제.ipynb",
      "provenance": [],
      "collapsed_sections": [],
      "include_colab_link": true
    },
    "kernelspec": {
      "name": "python3",
      "display_name": "Python 3"
    }
  },
  "cells": [
    {
      "cell_type": "markdown",
      "metadata": {
        "id": "view-in-github",
        "colab_type": "text"
      },
      "source": [
        "<a href=\"https://colab.research.google.com/github/wjdwlsdn1216/wjd-wls-dn/blob/master/4%EC%A3%BC%EC%B0%A8%EA%B3%BC%EC%A0%9C.ipynb\" target=\"_parent\"><img src=\"https://colab.research.google.com/assets/colab-badge.svg\" alt=\"Open In Colab\"/></a>"
      ]
    },
    {
      "cell_type": "markdown",
      "metadata": {
        "id": "wxkL6PjwsI6L",
        "colab_type": "text"
      },
      "source": [
        "# 4주차 과제\n",
        "- 용어 정리\n",
        "- 딥러닝 강의 클론 코딩"
      ]
    },
    {
      "cell_type": "markdown",
      "metadata": {
        "id": "ixEtDe6_uGgI",
        "colab_type": "text"
      },
      "source": [
        "## 1. 용어 정리\n",
        "\n",
        "다음 제시된 단어의 정의(설명)를 정리하여 작성 하세요.\n",
        "\n",
        "* 2문장 이상 작성 해 주세요. \n",
        "* 주제(단어)와 크게 벗어나지만 않는다면 정답처리 됩니다.\n",
        "* 강의 뿐 아니라 기타 레퍼런스를 참고하여 작성하셔도 됩니다. (기타 레퍼런스를 참고하신 경우, 해당 레퍼런스를 정리하여 하단에 작성해 주세요.)\n"
      ]
    },
    {
      "cell_type": "markdown",
      "metadata": {
        "id": "0lfwat8eurKZ",
        "colab_type": "text"
      },
      "source": [
        "__(예시)__\n",
        "### 심층 신경망\n",
        ": 입력층과 출력층 사이에 여러 개의 은닉층들로 이뤄진 인공신경망이다. 심층 신경망은 일반적으로 인공신경망과 마찬가지로 복잡한 비선형 관계들을 모델링 할 수 있다. 신층신경망의 목적은 분류 및 수치예측을 하기 위함이고 이미지 트레이닝이나 문자인식과 같은 분야에서 매우 유용하게 쓰이고 있다."
      ]
    },
    {
      "cell_type": "markdown",
      "metadata": {
        "id": "Y8YJNKG_v65A",
        "colab_type": "text"
      },
      "source": [
        "### MCP 뉴런\n",
        ":1943년 워랜 맥컬록과 웥터 피츠가 최초로 발표한 간소화된 뇌의 뉴런 개념이다.기본적으로 뉴런들은 뇌의 신경세포와 서로 연결되어 있으며 화학적, 전기적 신호를  처리하고 전달한다. MCP 뉴런은 이러한 신경세포를 이진 출력을 내는 간단한 논리회로로 표현한것이다.\n",
        "\n",
        "### 퍼셉트론\n",
        ":1957년 프랭크 로젠 블렛이 MCP 뉴런 모델을 기반으로 발표한 학습 개념이다.퍼셉트론 규칙에는 자동으로 최적의 가중치를 학습하는 알고리즘이있고, 이 가중치는 뉴런의 출력 신호를 낼지 안낼지 결정하기 위해 입력 특성에 곱하는  계수가 된다. 이는 신경망 즉 딥러닝의 시초라 할 수 있다. 퍼셉트론을 간단하게 표현하면 입력을받아서 계산을 진행하고 출력을 반환하는 구조이다.\n",
        "\n",
        "### 역전파\n",
        ":역전파는 뉴런의 가중치를  효율적으로 조정하기 위하여 거꾸로 무엇인가 전파하는 방식이다.자세히 설명하면 신경망의 출력 값과 지도 데이터 사이에 생기는 오차를 이용해 출력층에서부터 입력층 쪽으로 가중치를 조정하는 것이다. 또한 역전파는 경사하강법을 사용하는 것이기도 하다.\n",
        "\n",
        "### 강화학습\n",
        ":강화학습은 에이전트라는 존재가 환경과 상호작용하며 이 환경에는 보상이라는 기준이 있어서 다양한 시행착오를 겪어가며 보상을 최대화하는 방향으로 학습을 진행하는 머신러닝 학습방법중 하나이다.강화학습은 수많은 시행착오를 통해 학습이  가능하며 비교적으로 명확한 보상을 설정할 수 있는 문제를 해결하는데 사용되고 있다. \n",
        "\n",
        "### 과적합\n",
        ":과적합은 머신러닝에서 학습 데이터를 과하게 학습하는 것을 의미한다. 대체적으로 학습 데이터는 실제 데이터의 부분 집합이므로 학습데이터에서는 오차가 감소하지만 실제 데이터에 대해서는 오차가 증가하게 된다. 그래서 대부분의 알고리즘 구현과정에서 과적합을 피하기위해 일정수준의 원하는 값이 나오면 학습을 멈추게 설정한다.\n",
        "\n",
        "### 차원의 저주\n",
        ":차원의 저주란 고정된 크기의 훈련 데이터셋의 차원이 늘어남에 따라 특성 공간이 점점 희소해 지는 현상이다. 이 현상은 몇가지의 알고리즘을 사용할때 나타나는데 이를 피하기 위해 올바른 변수의 선택 그리고 차원 축소 기법 등을 통해 차원의 저주 현상을 피하려고 노력하고 있다.\n"
      ]
    },
    {
      "cell_type": "markdown",
      "metadata": {
        "id": "O9czN7AGnBjD",
        "colab_type": "text"
      },
      "source": [
        "#### 참고문헌\n",
        "과적합 : [위키백과](https://ko.wikipedia.org/wiki/%EA%B3%BC%EC%A0%81%ED%95%A9)"
      ]
    },
    {
      "cell_type": "markdown",
      "metadata": {
        "id": "d-zfFXLCy6jD",
        "colab_type": "text"
      },
      "source": [
        "## 2. 딥러닝 강의 클론 코딩\n",
        "\n",
        "####__퍼셉트론 구조 구현하기__ \n",
        "딥러닝 강의(__딥러닝 원리[1] 3:15 ~ 5:15 부분__)를 보고 코드를 따라 치며 출력 결과를 만드세요.\n",
        " \n",
        "\n",
        "* 하나의 코드셀에 해당 코드를 한번에 다 적어서 실행해주세요 (__그렇게 하지 않을 경우, 아래 이미지와 같은 출력값이 나오지 않을 수 있습니다__)\n",
        "\n",
        "*__주의!__ 실제로 코딩해서 출력해보면 강의에 나온 출력 결과와 다르게 나옵니다!!\n"
      ]
    },
    {
      "cell_type": "code",
      "metadata": {
        "id": "APRYQUFCGa0l",
        "colab_type": "code",
        "outputId": "3644f3e0-0171-492c-a145-ff56225b3627",
        "colab": {
          "base_uri": "https://localhost:8080/",
          "height": 209
        }
      },
      "source": [
        "import tensorflow as tf\n",
        "tf.compat.v1.set_random_seed(2020)\n",
        "x = 1\n",
        "y = 0\n",
        "w = tf.random.normal([1],0,1)\n",
        "import math\n",
        "def sigmoid(x):\n",
        "  return 1/(1+math.exp(-x))\n",
        "output = sigmoid(x*w)\n",
        "print(output)\n",
        "for i in range(1000):\n",
        "  output = sigmoid(x*w)\n",
        "  error = y - output\n",
        "  w = w + x * 0.1 * error\n",
        "  if i % 100 == 99:\n",
        "    print(\"학습횟수:\",i, \"Error:\",error, \"예측결과:\",output)"
      ],
      "execution_count": 0,
      "outputs": [
        {
          "output_type": "stream",
          "text": [
            "0.47477188589261\n",
            "학습횟수: 99 Error: -0.10010598284299604 예측결과: 0.10010598284299604\n",
            "학습횟수: 199 Error: -0.05178399422833116 예측결과: 0.05178399422833116\n",
            "학습횟수: 299 Error: -0.034590451977903586 예측결과: 0.034590451977903586\n",
            "학습횟수: 399 Error: -0.02588962752851373 예측결과: 0.02588962752851373\n",
            "학습횟수: 499 Error: -0.020658699939863617 예측결과: 0.020658699939863617\n",
            "학습횟수: 599 Error: -0.017174253993457355 예측결과: 0.017174253993457355\n",
            "학습횟수: 699 Error: -0.014689506449480992 예측결과: 0.014689506449480992\n",
            "학습횟수: 799 Error: -0.012829497265431342 예측결과: 0.012829497265431342\n",
            "학습횟수: 899 Error: -0.011385568271837804 예측결과: 0.011385568271837804\n",
            "학습횟수: 999 Error: -0.010232493309882492 예측결과: 0.010232493309882492\n"
          ],
          "name": "stdout"
        }
      ]
    },
    {
      "cell_type": "markdown",
      "metadata": {
        "id": "wcc5mzI9oZ7r",
        "colab_type": "text"
      },
      "source": [
        "![대체 텍스트](https://www.notion.so/image/https%3A%2F%2Fs3-us-west-2.amazonaws.com%2Fsecure.notion-static.com%2F0cceeed0-0235-4b0f-af88-0b8c377d5b4b%2F_2020-06-09__9.35.23.png?table=block&id=88fd8912-9356-49a4-9fda-a1a63fe96ea9&width=2870&cache=v2)"
      ]
    },
    {
      "cell_type": "markdown",
      "metadata": {
        "id": "kr0HVRk8fOom",
        "colab_type": "text"
      },
      "source": [
        "## 3. 딥러닝 순전파 & 역전파 계산\n",
        "\n",
        "딥러닝 강의(__딥러닝 원리[2] 0:55 ~ 4:32 부분__)에 나오는 순전파 & 역전파 계산에 대한 문제 입니다.\n",
        "\n",
        "해당 영상과 다음 이미지를 참고하여 다음 2가지 물음에 답하세요.\n",
        "\n",
        "\n",
        "(1) 학습률이 0.2 일 경우 출력층의 노드값\n",
        "\n",
        "(2) 학습률이 0.1과 0.2 중 기대출력값이 지도데이터 \"3\"과 더 가까운 학습률은?"
      ]
    },
    {
      "cell_type": "markdown",
      "metadata": {
        "id": "CpwPFWhOUzww",
        "colab_type": "text"
      },
      "source": [
        "![대체 텍스트](https://www.notion.so/image/https%3A%2F%2Fs3-us-west-2.amazonaws.com%2Fsecure.notion-static.com%2Ff54dfd45-92ec-44ae-9616-6949d2484a45%2F_2020-06-10__5.22.03.png?table=block&id=ee05da89-3ceb-4ad9-a2d3-c9f68d24d1d9&width=3580&cache=v2)"
      ]
    },
    {
      "cell_type": "markdown",
      "metadata": {
        "id": "B2OVY7w5U3CI",
        "colab_type": "text"
      },
      "source": [
        "## (1) 학습률이 0.2 일 경우 출력층의 노드값 : 1.6\n",
        "## (2) 학습률이 0.1과 0.2 중 기대출력값이 지도데이터 \"3\"과 더 가까운 학습률은? : 0.1 "
      ]
    }
  ]
}